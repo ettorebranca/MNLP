{
  "cells": [
    {
      "cell_type": "markdown",
      "metadata": {
        "id": "FgMXt_jldJfn"
      },
      "source": [
        "# Data_preparation"
      ]
    },
    {
      "cell_type": "code",
      "execution_count": 1,
      "metadata": {
        "id": "hVcTh-aUnAeA"
      },
      "outputs": [],
      "source": [
        "import json\n",
        "from pathlib import Path\n",
        "from collections import Counter\n",
        "from google.colab import drive\n",
        "from sklearn.model_selection import train_test_split\n",
        "import torch\n",
        "from torch import nn\n",
        "from torch.nn import functional as F\n",
        "from torch.nn.utils.rnn import pad_sequence\n",
        "from torch.utils.data import Dataset, DataLoader\n",
        "from torchtext.data.utils import get_tokenizer\n",
        "from torchtext.vocab import Vocab, vocab, Vectors\n",
        "from torch.nn.utils.rnn import pack_padded_sequence\n",
        "from pprint import pprint\n",
        "from tqdm import tqdm\n",
        "from collections import Counter\n",
        "import random\n",
        "import numpy as np\n",
        "import pandas as pd\n",
        "import matplotlib.pyplot as plt\n",
        "import seaborn as sns\n",
        "from sklearn.metrics import f1_score\n",
        "from sklearn.metrics import confusion_matrix\n",
        "SEED = 1234\n",
        "random.seed(SEED)\n",
        "np.random.seed(SEED)\n",
        "torch.manual_seed(SEED) # Best effort to be reproducible. If there are nondeterministic operations like some cnn kernels you have different results even with the same seed.\n",
        "torch.backends.cudnn.deterministic = True  # Uses deterministic operations when possible, otherwise raises an error"
      ]
    },
    {
      "cell_type": "code",
      "execution_count": 2,
      "metadata": {
        "id": "VtNO9ykaqnQM"
      },
      "outputs": [],
      "source": [
        "if torch.cuda.is_available():\n",
        "    device = torch.device('cuda')\n",
        "else:\n",
        "    device = torch.device('cpu')"
      ]
    },
    {
      "cell_type": "code",
      "execution_count": 3,
      "metadata": {
        "colab": {
          "base_uri": "https://localhost:8080/"
        },
        "id": "-vCPOXv4nV-l",
        "outputId": "b6c12f22-a56f-49b6-8655-b210051d9a9a"
      },
      "outputs": [
        {
          "output_type": "stream",
          "name": "stdout",
          "text": [
            "Mounted at /content/drive\n"
          ]
        }
      ],
      "source": [
        "drive.mount('/content/drive')\n",
        "train_OG_path = Path('/content/drive/My Drive/HM1_B-1965733/data/train.jsonl') #percorso_train\n",
        "test_path = Path('/content/drive/My Drive/HM1_B-1965733/data/test.jsonl') #percorso test\n"
      ]
    },
    {
      "cell_type": "code",
      "execution_count": 4,
      "metadata": {
        "colab": {
          "base_uri": "https://localhost:8080/"
        },
        "id": "VrSmevCHqtWL",
        "outputId": "06dc81f5-1053-42ee-9d11-eeb8b8733d6a"
      },
      "outputs": [
        {
          "output_type": "stream",
          "name": "stdout",
          "text": [
            "Number of samples: 4409\n",
            "Label distribution:\n",
            "label\n",
            "0    0.535722\n",
            "2    0.355863\n",
            "1    0.108415\n",
            "Name: proportion, dtype: float64\n",
            "Number of samples: 1000\n",
            "Label distribution:\n",
            "label\n",
            "0    0.500\n",
            "1    0.324\n",
            "2    0.176\n",
            "Name: proportion, dtype: float64\n"
          ]
        }
      ],
      "source": [
        "def count_lines_and_label_distribution(path: Path) -> int:\n",
        "    with open(path, 'r') as f:\n",
        "        lines = f.readlines()\n",
        "    data = [json.loads(line) for line in lines]\n",
        "    df = pd.DataFrame(data)\n",
        "    num_lines = len(df)\n",
        "    label_distribution = df['label'].value_counts(normalize=True)\n",
        "    print(f\"Number of samples: {num_lines}\")\n",
        "    print(\"Label distribution:\")\n",
        "    print(label_distribution)\n",
        "\n",
        "count_lines_and_label_distribution(train_OG_path)\n",
        "count_lines_and_label_distribution(test_path)"
      ]
    },
    {
      "cell_type": "code",
      "source": [
        "def create_validation_set(path: Path, test_size: float) -> None:\n",
        "    with open(path, 'r') as f:\n",
        "        lines = f.readlines()\n",
        "    data = [json.loads(line) for line in lines]\n",
        "    df = pd.DataFrame(data)\n",
        "\n",
        "    # Stratified split to maintain label distribution\n",
        "    train_df, val_df = train_test_split(df, test_size=test_size, stratify=df['label'])\n",
        "\n",
        "    print(f\"Train set size: {len(train_df)}\")\n",
        "    print(f\"Validation set size: {len(val_df)}\")\n",
        "\n",
        "    # Save the new train and validation sets\n",
        "    train_df.to_json('/content/drive/My Drive/HM1_B-1965733/data/train_split.jsonl', orient='records', lines=True)\n",
        "    val_df.to_json('/content/drive/My Drive/HM1_B-1965733/data/val_split.jsonl', orient='records', lines=True)\n",
        "\n",
        "create_validation_set('/content/drive/My Drive/HM1_B-1965733/data/train.jsonl', test_size=0.15)\n",
        "valid_path=Path('/content/drive/My Drive/HM1_B-1965733/data/val_split.jsonl')\n",
        "train_path=Path('/content/drive/My Drive//HM1_B-1965733/data/train_split.jsonl')\n"
      ],
      "metadata": {
        "colab": {
          "base_uri": "https://localhost:8080/"
        },
        "id": "Np4devSUtUrV",
        "outputId": "a5d410d8-6b4a-4b05-91b8-e546610d31da"
      },
      "execution_count": 8,
      "outputs": [
        {
          "output_type": "stream",
          "name": "stdout",
          "text": [
            "Train set size: 3747\n",
            "Validation set size: 662\n"
          ]
        }
      ]
    },
    {
      "cell_type": "code",
      "source": [
        "def print_label_distribution(df: pd.DataFrame) -> None:\n",
        "    label_distribution = df['label'].value_counts(normalize=True)\n",
        "    print(\"Label distribution:\")\n",
        "    print(label_distribution)\n",
        "\n",
        "val_df = pd.read_json('/content/drive/My Drive/HM1_B-1965733/data/val_split.jsonl', lines=True)\n",
        "print_label_distribution(val_df)\n"
      ],
      "metadata": {
        "colab": {
          "base_uri": "https://localhost:8080/"
        },
        "id": "-KKZOrcStyy9",
        "outputId": "0551a0bc-d9c6-4e4e-90a7-923bea08d861"
      },
      "execution_count": 9,
      "outputs": [
        {
          "output_type": "stream",
          "name": "stdout",
          "text": [
            "Label distribution:\n",
            "label\n",
            "0    0.536254\n",
            "2    0.354985\n",
            "1    0.108761\n",
            "Name: proportion, dtype: float64\n"
          ]
        }
      ]
    },
    {
      "cell_type": "code",
      "execution_count": 10,
      "metadata": {
        "id": "eztZlStHpLU3"
      },
      "outputs": [],
      "source": [
        "class SST2Dataset(Dataset):\n",
        "    def __init__(\n",
        "        self,\n",
        "        input_file: Path,\n",
        "        max_length: int = 1028,\n",
        "        device: str = \"cuda\"\n",
        "    ):\n",
        "        # Get simple tokenizer\n",
        "        tokenizer = get_tokenizer(None)\n",
        "\n",
        "        # Save samples from input jsonl file\n",
        "        self.samples = []\n",
        "        with open(input_file, \"r\") as f:\n",
        "            for line in f:\n",
        "                sample = json.loads(line.strip())\n",
        "                # the sample dictionary contains the following key: idx, text and label (integer)\n",
        "                sample[\"tokens\"] = tokenizer(sample[\"text\"])\n",
        "                self.samples.append(sample)\n",
        "\n",
        "        # Initialize indexed data attribute but leave it None\n",
        "        # Must be filled through the `.index(vocabulary, label_vocabulary)` method\n",
        "        # each dictionary represents a sentence with two keys: \"input_ids\" and \"label\"\n",
        "        self.indexed_data: list[dict] | None = None\n",
        "\n",
        "        # Keep track of the maximum length to allow for a batch\n",
        "        self.max_length = max_length\n",
        "        # Save device\n",
        "        self.device = torch.device(device)\n",
        "        # Keep track of padding id\n",
        "        self.padding_id: int | None = None\n",
        "\n",
        "    def get_raw_element(self, idx: int) -> dict:\n",
        "        \"\"\"Utility function that gets the raw sample corresponding to `idx`.\"\"\"\n",
        "        return self.samples[idx]\n",
        "\n",
        "    def __len__(self) -> int:\n",
        "        return len(self.samples)\n",
        "\n",
        "    def __getitem__(self, idx: int) -> dict:\n",
        "        if self.indexed_data is None:\n",
        "            raise RuntimeError(\n",
        "                \"Trying to retrieve samples but dataset has not been indexed yet!\"\n",
        "                + \" Be sure to call `.index()` on this object.\"\n",
        "                + \" If you want to retrieve raw elements, call `.get_raw_elements(idx)\"\n",
        "            )\n",
        "        return self.indexed_data[idx]\n",
        "\n",
        "    def get_vocabulary(\n",
        "        self,\n",
        "        pad_token: str = \"<pad>\",\n",
        "        unk_token: str = \"<unk>\",\n",
        "        extra_tokens: list[str] = []\n",
        "    ) -> Vocab:\n",
        "        \"\"\"Builds a `torchtext.vocab.Vocab` object from data stored in this object.\"\"\"\n",
        "        # most_common() returns a list of (token, count) pairs, so we convert them back into dictionary\n",
        "        vocab_counter = dict(Counter(token for sent in self.samples for token in sent[\"tokens\"]).most_common())\n",
        "        # We build the vocabulary through a dictionary like {token: frequency, ...}\n",
        "        vocabulary = vocab(vocab_counter, min_freq=1, specials=[pad_token, unk_token, *extra_tokens])\n",
        "        # vocabulary(list of tokens) returns a list of values, so get the only one\n",
        "        vocabulary.set_default_index(vocabulary([unk_token])[0])\n",
        "        return vocabulary\n",
        "\n",
        "    def set_padding_id(self, value: int) -> None:\n",
        "        self.padding_id = value\n",
        "\n",
        "    def index(self, vocabulary: Vocab) -> None:\n",
        "        \"\"\"Builds `self.indexed_data` by converting raw samples to input_ids following `vocabulary`\"\"\"\n",
        "        if self.indexed_data is not None:\n",
        "            print(\"Dataset has already been indexed. Keeping old index...\")\n",
        "        else:\n",
        "            indexed_data = []\n",
        "            for sample in self.samples:\n",
        "                # append the dictionary containing ids of the input tokens and label\n",
        "                indexed_data.append({\"input_ids\": vocabulary(sample[\"tokens\"]), \"label\": sample[\"label\"]})\n",
        "            self.indexed_data = indexed_data\n",
        "\n",
        "    def _collate_fn(self, raw_batch: list[dict]) -> tuple[torch.Tensor, torch.Tensor, torch.Tensor]:\n",
        "        \"\"\"\n",
        "        Batches together single elements of the dataset.\n",
        "        This function:\n",
        "        - converts each sentence made up of single input_ids to a padded tensor,\n",
        "        - keeps track of the length of each sentence through `sequence_lengths`\n",
        "        - builds a `labels` tensor storing the label for each sentence\n",
        "        Args: raw_batch (list[dict]): a list of elements, as returned by the `__getitem__()` function.\n",
        "        Returns: a tuple of three tensors, respectively `(sequence_lengths, padded_sequence, labels)`\n",
        "        \"\"\"\n",
        "        if self.padding_id is None:\n",
        "            raise RuntimeError(\"Padding value not set! Set it through .set_padding_id method.\")\n",
        "\n",
        "        # We need these sequence lengths to construct a `torch.nn.utils.rnn.PackedSequence` in the model\n",
        "        sequence_lengths = torch.tensor([len(sample[\"input_ids\"]) for sample in raw_batch], dtype=torch.long)\n",
        "        padded_sequence = pad_sequence(\n",
        "            (\n",
        "                torch.tensor(sample[\"input_ids\"], dtype=torch.long, device=self.device)\n",
        "                for sample in raw_batch\n",
        "            ),\n",
        "            batch_first=True,\n",
        "            padding_value=self.padding_id\n",
        "        )\n",
        "        labels = torch.tensor([sample[\"label\"] for sample in raw_batch], device=self.device, dtype=torch.long)\n",
        "        return sequence_lengths, padded_sequence, labels"
      ]
    },
    {
      "cell_type": "markdown",
      "metadata": {
        "id": "UwrwAbARqviu"
      },
      "source": [
        "# Model"
      ]
    },
    {
      "cell_type": "code",
      "execution_count": 11,
      "metadata": {
        "id": "xcIDsmu0kdKR"
      },
      "outputs": [],
      "source": [
        "class BiLSTMModel(torch.nn.Module):\n",
        "\n",
        "    def __init__(\n",
        "        self,\n",
        "        vocabulary_length: int,\n",
        "        hidden_dim: int,\n",
        "        bilstm_layers: int,\n",
        "        bilstm_dropout: float,\n",
        "        num_classes: int,\n",
        "        padding_id: int,\n",
        "        device: str = \"cuda\",\n",
        "    ) -> None:\n",
        "        super().__init__()\n",
        "\n",
        "        # Prepare the device\n",
        "        self.device = torch.device(device)\n",
        "\n",
        "        # Embedding layer\n",
        "        self.embedding = nn.Embedding(\n",
        "            num_embeddings=vocabulary_length,\n",
        "            embedding_dim=hidden_dim,\n",
        "            padding_idx=padding_id, # avoid updating the gradient of padding entries\n",
        "            device=self.device\n",
        "        )\n",
        "\n",
        "        # BiLSTM\n",
        "        self.bilstm = nn.LSTM(\n",
        "            input_size=hidden_dim,\n",
        "            hidden_size=hidden_dim,\n",
        "            num_layers=bilstm_layers,\n",
        "            batch_first=True,\n",
        "            dropout=bilstm_dropout,\n",
        "            bidirectional=True,\n",
        "            device=self.device\n",
        "        )\n",
        "\n",
        "        # Projection layer\n",
        "        self.projection = nn.Linear(\n",
        "            in_features=hidden_dim * 2,\n",
        "            out_features=num_classes,\n",
        "            device=device\n",
        "        )\n",
        "\n",
        "    def forward(self, batch: tuple[torch.Tensor, torch.Tensor]) -> torch.Tensor:\n",
        "        # Get the different parts of the batch\n",
        "        sequence_lengths, input_ids = batch\n",
        "\n",
        "        # First we embed the input tokens\n",
        "        embeds = self.embedding(input_ids) # [B, S, H]\n",
        "        # where B is the batch size, S is the sequence length and H is the hidden dimension\n",
        "\n",
        "        # Pack the sequence to avoid gradient descent on padding tokens.\n",
        "        packed = pack_padded_sequence(embeds, sequence_lengths, batch_first=True, enforce_sorted=False)\n",
        "\n",
        "        # Then we pass it to the BiLSTM\n",
        "        # The first output of the BiLSTM tuple, packed_output, is of size B x S x 2H,\n",
        "        # where B is the batch size, S is the sequence length and H is the hidden dimension\n",
        "        # hidden_state is of size [2 * num_layers, B, H], where the 2 is because we are using BiLSTMs instead of LSTMs.\n",
        "        # cell_state has size [2 * num_layers, B, C] where C is the cell dimension of the internal LSTMCell.\n",
        "        packed_output, (hidden_state, cell_state) = self.bilstm(packed)\n",
        "\n",
        "        # We take the last two hidden representations of the BiLSTM (the second-to-last layer's output is forward; last\n",
        "        # layer's is backward) by concatenating forward and backward over dimension 1.\n",
        "        # Both tensors have shapes of [B, H], so concatenating them along the second dimension (dim 1) results in a new\n",
        "        # tensor of shape [B, 2 * H]\n",
        "        hidden = torch.cat((hidden_state[-2,:,:], hidden_state[-1,:,:]), dim = 1)\n",
        "\n",
        "        # Finally we project to the two final classes and return the logits of each class\n",
        "        logits = self.projection(hidden) # [B, 2]\n",
        "        return logits"
      ]
    },
    {
      "cell_type": "markdown",
      "metadata": {
        "id": "fLjEgLdAq5Rn"
      },
      "source": [
        "# Training"
      ]
    },
    {
      "cell_type": "code",
      "source": [
        "class Trainer():\n",
        "\n",
        "    def __init__(\n",
        "        self,\n",
        "        model: nn.Module,\n",
        "        optimizer: torch.optim.Optimizer,\n",
        "        log_steps: int = 1_000,\n",
        "        log_level: int = 2\n",
        "    ):\n",
        "        self.model = model\n",
        "        self.optimizer = optimizer\n",
        "        self.loss_function = nn.CrossEntropyLoss() # default loss used nearly everywhere in NLP\n",
        "        self.log_steps = log_steps\n",
        "        self.log_level = log_level\n",
        "\n",
        "    def train(\n",
        "        self,\n",
        "        train_dataloader: DataLoader,\n",
        "        valid_dataloader: DataLoader,\n",
        "        epochs: int = 1\n",
        "    ) -> dict[str, list[float]]:\n",
        "        \"\"\"\n",
        "        Args:\n",
        "            train_dataloader: a DataLoader instance containing the training instances.\n",
        "            valid_dataloader: a DataLoader instance used to evaluate learning progress.\n",
        "            epochs: the number of times to iterate over train_dataset.\n",
        "        Returns:\n",
        "            avg_train_loss: the average training loss on train_dataset over epochs.\n",
        "        \"\"\"\n",
        "        assert epochs >= 1 and isinstance(epochs, int)\n",
        "        if self.log_level > 0:\n",
        "            print('Training ...')\n",
        "        train_loss = 0.0\n",
        "\n",
        "        losses = {\n",
        "            \"train_losses\": [],\n",
        "            \"valid_losses\": [],\n",
        "            \"valid_acc\": [],\n",
        "        }\n",
        "\n",
        "        for epoch in range(1, epochs + 1):\n",
        "            if self.log_level > 0:\n",
        "                print(' Epoch {:2d}'.format(epoch))\n",
        "\n",
        "            epoch_loss = 0.0\n",
        "            self.model.train()\n",
        "\n",
        "            # for each batch\n",
        "            for step, (sequence_lengths, inputs, labels) in enumerate(train_dataloader):\n",
        "                self.optimizer.zero_grad()\n",
        "\n",
        "                # We get the predicted logits from the model, with no need to perform any flattening\n",
        "                # as both predictions and labels refer to the whole sentence.\n",
        "                predictions = self.model((sequence_lengths, inputs))\n",
        "\n",
        "                # The CrossEntropyLoss expects the predictions to be logits, i.e. non-softmaxed scores across\n",
        "                # the number of classes, and the labels to be a simple tensor of labels.\n",
        "                # Specifically, predictions needs to be of shape [B, C], where B is the batch size and C is the number of\n",
        "                # classes, while labels must be of shape [B] where each element l_i should 0 <= l_i < C.\n",
        "                # See https://pytorch.org/docs/stable/generated/torch.nn.CrossEntropyLoss.html for more information.\n",
        "                sample_loss = self.loss_function(predictions, labels)\n",
        "                sample_loss.backward()\n",
        "                self.optimizer.step()\n",
        "\n",
        "                epoch_loss += sample_loss.cpu().tolist()\n",
        "\n",
        "                if self.log_level > 1 and (step % self.log_steps) == (self.log_steps - 1):\n",
        "                    print('\\t[E: {:2d} @ step {}] current avg loss = {:0.4f}'.format(epoch, step, epoch_loss / (step + 1)))\n",
        "\n",
        "            avg_epoch_loss = epoch_loss / len(train_dataloader)\n",
        "\n",
        "            if self.log_level > 0:\n",
        "                print('\\t[E: {:2d}] train loss = {:0.4f}'.format(epoch, avg_epoch_loss))\n",
        "\n",
        "            valid_loss, valid_acc, valid_f1, conf_matrix = self.evaluate(valid_dataloader)\n",
        "\n",
        "            losses[\"train_losses\"].append(avg_epoch_loss)\n",
        "            losses[\"valid_losses\"].append(valid_loss)\n",
        "            losses[\"valid_acc\"].append(valid_acc)\n",
        "\n",
        "            if self.log_level > 0:\n",
        "                print('  [E: {:2d}] val loss = {:0.4f}, val acc = {:0.4f}, val f1 = {:0.4f}'.format(epoch, valid_loss, valid_acc, valid_f1))\n",
        "\n",
        "        if self.log_level > 0:\n",
        "            print('... Done!')\n",
        "\n",
        "        return losses\n",
        "\n",
        "\n",
        "    def _compute_acc(self, logits: torch.Tensor, labels: torch.Tensor) -> float:\n",
        "        # logits [B, 2] are the logits outputted by the BiLSTM model's forward()\n",
        "        # We take the argmax along the second dimension (dim=1), so we get a tensor of shape [B]\n",
        "        # where each element is 0 if the 0-class had higher logit, 1 otherwise.\n",
        "        predictions = torch.argmax(logits, dim=1)\n",
        "        # We can then directly compare each prediction with the labels, as they are both tensors with shape [B].\n",
        "        # The average of the boolean equality checks between the two is the accuracy of these predictions.\n",
        "        # For example, if:\n",
        "        #   predictions = [1, 0, 0, 1, 1]\n",
        "        #   labels = [1, 0, 1, 1, 1]\n",
        "        # The comparison is:\n",
        "        #   (predictions == labels) => [1, 1, 0, 1, 1]\n",
        "        # which averaged gives an accuracy of 4/5, i.e. 0.80.\n",
        "        return torch.mean((predictions == labels).float()).tolist() # type: ignore\n",
        "\n",
        "\n",
        "\n",
        "    def evaluate(self, valid_dataloader: DataLoader) -> tuple[float, float, float, np.ndarray]:\n",
        "        \"\"\"\n",
        "        Args:    valid_dataloader: the DataLoader to use to evaluate the model.\n",
        "        Returns: avg_valid_loss: the average validation loss over valid_dataloader.\n",
        "        \"\"\"\n",
        "        valid_loss = 0.0\n",
        "        valid_acc = 0.0\n",
        "        all_predictions = []\n",
        "        all_labels = []\n",
        "\n",
        "        self.model.eval()\n",
        "        with torch.no_grad():\n",
        "            for batch in valid_dataloader:\n",
        "                sequence_lengths, inputs, labels = batch\n",
        "\n",
        "                logits = self.model((sequence_lengths, inputs))\n",
        "\n",
        "                sample_loss = self.loss_function(logits, labels)\n",
        "                valid_loss += sample_loss.tolist()\n",
        "                sample_acc = self._compute_acc(logits, labels)\n",
        "                valid_acc += sample_acc\n",
        "\n",
        "                # Store predictions and labels\n",
        "                predictions = torch.argmax(logits, dim=1)\n",
        "                all_predictions.extend(predictions.cpu().numpy())\n",
        "                all_labels.extend(labels.cpu().numpy())\n",
        "\n",
        "        # Calculate F1 score\n",
        "        valid_f1 = f1_score(all_labels, all_predictions, average='weighted')\n",
        "        # Calculate confusion matrix\n",
        "        conf_matrix = confusion_matrix(all_labels, all_predictions)\n",
        "\n",
        "        return valid_loss / len(valid_dataloader), valid_acc / len(valid_dataloader), valid_f1, conf_matrix\n",
        "\n",
        "    def predict(self, batch: tuple[torch.Tensor, torch.Tensor]) -> tuple[torch.Tensor, torch.Tensor]:\n",
        "        \"\"\"\n",
        "        Args: x: a tensor of indices\n",
        "        Returns:\n",
        "            A tuple composed of:\n",
        "            - the logits of each class, 0 and 1\n",
        "            - the prediction for each sample in the batch\n",
        "              0 if the sentiment of the sentence is negative, 1 if it is positive.\n",
        "        \"\"\"\n",
        "        self.model.eval()\n",
        "        with torch.no_grad():\n",
        "            sequence_lengths, inputs = batch\n",
        "            logits = self.model(sequence_lengths, inputs) # [B, 2]\n",
        "            predictions = torch.argmax(logits, -1) # [B, 1] computed on the last dimension of the logits tensor\n",
        "            return logits, predictions\n"
      ],
      "metadata": {
        "id": "ZM_lUIFrIhJB"
      },
      "execution_count": 12,
      "outputs": []
    },
    {
      "cell_type": "code",
      "execution_count": 13,
      "metadata": {
        "id": "gR0FlMs7hQBd"
      },
      "outputs": [],
      "source": [
        "pad_token, unk_token = \"<pad>\", \"<unk>\"\n",
        "\n",
        "train_dataset = SST2Dataset(train_path, device=device)\n",
        "valid_dataset = SST2Dataset(valid_path, device=device)\n",
        "test_dataset = SST2Dataset(test_path, device=device)\n",
        "\n",
        "vocabulary = train_dataset.get_vocabulary(pad_token=pad_token, unk_token=unk_token)\n",
        "padding_id = vocabulary([pad_token])[0]\n",
        "\n",
        "train_dataset.set_padding_id(padding_id)\n",
        "test_dataset.set_padding_id(padding_id)\n",
        "valid_dataset.set_padding_id(padding_id)\n",
        "\n",
        "train_dataset.index(vocabulary)\n",
        "valid_dataset.index(vocabulary)\n",
        "test_dataset.index(vocabulary)\n",
        "\n",
        "training_dataloader = DataLoader(train_dataset, batch_size=32, shuffle=True, collate_fn=train_dataset._collate_fn)\n",
        "valid_dataloader = DataLoader(valid_dataset, batch_size=32, shuffle=False, collate_fn=train_dataset._collate_fn)\n",
        "test_dataloader = DataLoader(test_dataset, batch_size=32, shuffle=False, collate_fn=test_dataset._collate_fn)\n"
      ]
    },
    {
      "cell_type": "code",
      "execution_count": null,
      "metadata": {
        "id": "Le-_BtgdEDSY"
      },
      "outputs": [],
      "source": [
        "# Grid-search:\n",
        "\n",
        "# hyperparameters to test\n",
        "#hidden_dims = [64, 128]\n",
        "#bilstm_layers = [2, 3]\n",
        "#bilstm_dropouts = [0.3, 0.4]\n",
        "\n",
        "#results = []\n",
        "# Loop over the hyperparameters\n",
        "#for hidden_dim in hidden_dims:\n",
        "    #for layer in bilstm_layers:\n",
        "        #for dropout in bilstm_dropouts:\n",
        "            #classifier = BiLSTMModel(\n",
        "                #vocabulary_length=len(vocabulary),\n",
        "                #hidden_dim=hidden_dim,\n",
        "                #bilstm_layers=layer,\n",
        "                #bilstm_dropout=dropout,\n",
        "                #num_classes=3,\n",
        "                #padding_id=padding_id,\n",
        "                #device=device\n",
        "            #)\n",
        "\n",
        "            #trainer = Trainer(\n",
        "                #model=classifier,\n",
        "                #optimizer=torch.optim.Adam(classifier.parameters(), lr=0.0001),\n",
        "                #log_steps=100\n",
        "            #)\n",
        "            # Train the model and get the losses\n",
        "            #losses = trainer.train(training_dataloader, valid_dataloader, epochs=10)\n",
        "\n",
        "            # Append the results\n",
        "            #results.append({\n",
        "                #'hidden_dim': hidden_dim,\n",
        "                #'bilstm_layers': layer,\n",
        "                #'bilstm_dropout': dropout,\n",
        "                #'valid_acc': losses['valid_acc'][-1]  # Get the last epoch's accuracy\n",
        "            #})\n",
        "\n",
        "# Convert the results to a DataFrame\n",
        "#results_df = pd.DataFrame(results)"
      ]
    },
    {
      "cell_type": "code",
      "execution_count": null,
      "metadata": {
        "id": "9-Bn0ns2ix62"
      },
      "outputs": [],
      "source": [
        "#results_df"
      ]
    },
    {
      "cell_type": "code",
      "source": [
        "#best set of hyperparameters according to the grid search\n",
        "classifier= BiLSTMModel(\n",
        "    vocabulary_length=len(vocabulary),\n",
        "    hidden_dim=128,\n",
        "    bilstm_layers=2,\n",
        "    bilstm_dropout=0.3,\n",
        "    num_classes=3,\n",
        "    padding_id=padding_id,\n",
        "    device=device\n",
        ")\n",
        "trainer = Trainer(\n",
        "    model=classifier,\n",
        "    optimizer=torch.optim.Adam(classifier.parameters(), lr=0.0001),\n",
        "    log_steps=100\n",
        ")\n",
        "losses = trainer.train(training_dataloader,valid_dataloader, epochs=20)\n"
      ],
      "metadata": {
        "colab": {
          "base_uri": "https://localhost:8080/"
        },
        "id": "oYmd1Y_sF3gw",
        "outputId": "85d34635-43de-4f8c-f35a-7e89fd8db4d9"
      },
      "execution_count": null,
      "outputs": [
        {
          "output_type": "stream",
          "name": "stdout",
          "text": [
            "Training ...\n",
            " Epoch  1\n",
            "\t[E:  1 @ step 99] current avg loss = 0.9954\n",
            "\t[E:  1] train loss = 0.9649\n",
            "  [E:  1] val loss = 0.7581, val acc = 0.6591, val f1 = 0.6019\n",
            " Epoch  2\n",
            "\t[E:  2 @ step 99] current avg loss = 0.6711\n",
            "\t[E:  2] train loss = 0.6573\n",
            "  [E:  2] val loss = 0.6451, val acc = 0.7292, val f1 = 0.6891\n",
            " Epoch  3\n",
            "\t[E:  3 @ step 99] current avg loss = 0.5751\n",
            "\t[E:  3] train loss = 0.5846\n",
            "  [E:  3] val loss = 0.6026, val acc = 0.7455, val f1 = 0.7086\n",
            " Epoch  4\n",
            "\t[E:  4 @ step 99] current avg loss = 0.5405\n",
            "\t[E:  4] train loss = 0.5280\n",
            "  [E:  4] val loss = 0.6079, val acc = 0.7528, val f1 = 0.7099\n",
            " Epoch  5\n",
            "\t[E:  5 @ step 99] current avg loss = 0.4793\n",
            "\t[E:  5] train loss = 0.4941\n",
            "  [E:  5] val loss = 0.6024, val acc = 0.7507, val f1 = 0.7212\n",
            " Epoch  6\n",
            "\t[E:  6 @ step 99] current avg loss = 0.4548\n",
            "\t[E:  6] train loss = 0.4526\n",
            "  [E:  6] val loss = 0.5909, val acc = 0.7603, val f1 = 0.7330\n",
            " Epoch  7\n",
            "\t[E:  7 @ step 99] current avg loss = 0.4262\n",
            "\t[E:  7] train loss = 0.4181\n",
            "  [E:  7] val loss = 0.5939, val acc = 0.7551, val f1 = 0.7337\n",
            " Epoch  8\n",
            "\t[E:  8 @ step 99] current avg loss = 0.3844\n",
            "\t[E:  8] train loss = 0.3801\n",
            "  [E:  8] val loss = 0.5811, val acc = 0.7596, val f1 = 0.7455\n",
            " Epoch  9\n",
            "\t[E:  9 @ step 99] current avg loss = 0.3586\n",
            "\t[E:  9] train loss = 0.3534\n",
            "  [E:  9] val loss = 0.6460, val acc = 0.7388, val f1 = 0.7217\n",
            " Epoch 10\n",
            "\t[E: 10 @ step 99] current avg loss = 0.3221\n",
            "\t[E: 10] train loss = 0.3227\n",
            "  [E: 10] val loss = 0.6515, val acc = 0.7581, val f1 = 0.7475\n",
            " Epoch 11\n",
            "\t[E: 11 @ step 99] current avg loss = 0.2945\n",
            "\t[E: 11] train loss = 0.2903\n",
            "  [E: 11] val loss = 0.7011, val acc = 0.7537, val f1 = 0.7439\n",
            " Epoch 12\n",
            "\t[E: 12 @ step 99] current avg loss = 0.2626\n",
            "\t[E: 12] train loss = 0.2673\n",
            "  [E: 12] val loss = 0.6737, val acc = 0.7633, val f1 = 0.7555\n",
            " Epoch 13\n",
            "\t[E: 13 @ step 99] current avg loss = 0.2412\n",
            "\t[E: 13] train loss = 0.2405\n",
            "  [E: 13] val loss = 0.7611, val acc = 0.7388, val f1 = 0.7298\n",
            " Epoch 14\n",
            "\t[E: 14 @ step 99] current avg loss = 0.2189\n",
            "\t[E: 14] train loss = 0.2163\n",
            "  [E: 14] val loss = 0.7712, val acc = 0.7624, val f1 = 0.7553\n",
            " Epoch 15\n",
            "\t[E: 15 @ step 99] current avg loss = 0.1898\n",
            "\t[E: 15] train loss = 0.1951\n",
            "  [E: 15] val loss = 0.8667, val acc = 0.7298, val f1 = 0.7215\n",
            " Epoch 16\n",
            "\t[E: 16 @ step 99] current avg loss = 0.1823\n",
            "\t[E: 16] train loss = 0.1797\n",
            "  [E: 16] val loss = 0.8749, val acc = 0.7507, val f1 = 0.7439\n",
            " Epoch 17\n",
            "\t[E: 17 @ step 99] current avg loss = 0.1618\n",
            "\t[E: 17] train loss = 0.1579\n",
            "  [E: 17] val loss = 0.8843, val acc = 0.7543, val f1 = 0.7506\n",
            " Epoch 18\n",
            "\t[E: 18 @ step 99] current avg loss = 0.1448\n",
            "\t[E: 18] train loss = 0.1423\n",
            "  [E: 18] val loss = 0.9398, val acc = 0.7477, val f1 = 0.7456\n",
            " Epoch 19\n",
            "\t[E: 19 @ step 99] current avg loss = 0.1330\n",
            "\t[E: 19] train loss = 0.1344\n",
            "  [E: 19] val loss = 0.8983, val acc = 0.7335, val f1 = 0.7363\n",
            " Epoch 20\n",
            "\t[E: 20 @ step 99] current avg loss = 0.1143\n",
            "\t[E: 20] train loss = 0.1180\n",
            "  [E: 20] val loss = 1.0433, val acc = 0.7350, val f1 = 0.7297\n",
            "... Done!\n"
          ]
        }
      ]
    },
    {
      "cell_type": "markdown",
      "metadata": {
        "id": "guSg7oRw2hkq"
      },
      "source": [
        "# Results"
      ]
    },
    {
      "cell_type": "code",
      "execution_count": null,
      "metadata": {
        "colab": {
          "base_uri": "https://localhost:8080/"
        },
        "id": "eUdCdJALsCeI",
        "outputId": "3ba7c437-ffd9-4391-b18d-d1d5690b7078"
      },
      "outputs": [
        {
          "output_type": "stream",
          "name": "stdout",
          "text": [
            "Test loss 1.5472012236714363, Test accuracy: 0.6064453125, Test F1 Score: 0.5946538162695677\n"
          ]
        }
      ],
      "source": [
        "test_loss, test_acc, test_f1, conf_matrix  = trainer.evaluate(test_dataloader)\n",
        "print(f\"Test loss {test_loss}, Test accuracy: {test_acc}, Test F1 Score: {test_f1}\")"
      ]
    },
    {
      "cell_type": "code",
      "execution_count": null,
      "metadata": {
        "colab": {
          "base_uri": "https://localhost:8080/",
          "height": 887
        },
        "id": "EmJHrdO0sDZ3",
        "outputId": "36f5b49b-c642-455d-b3ad-005262a9f7b1"
      },
      "outputs": [
        {
          "output_type": "display_data",
          "data": {
            "text/plain": [
              "<Figure size 640x480 with 1 Axes>"
            ],
            "image/png": "[encoded data removed]"
          },
          "metadata": {}
        },
        {
          "output_type": "display_data",
          "data": {
            "text/plain": [
              "<Figure size 640x480 with 1 Axes>"
            ],
            "image/png": "[encoded data removed]"
          },
          "metadata": {}
        }
      ],
      "source": [
        "plt.title(\"loss\")\n",
        "plt.plot(losses[\"train_losses\"], label=\"train loss\")\n",
        "plt.plot(losses[\"valid_losses\"], label=\"valid loss\")\n",
        "plt.legend()\n",
        "plt.show()\n",
        "\n",
        "plt.title(\"accuracy\")\n",
        "plt.plot(losses[\"valid_acc\"], label=\"validation accuracy\")\n",
        "plt.legend()\n",
        "plt.show()"
      ]
    },
    {
      "cell_type": "code",
      "source": [
        "# Plot confusion matrix\n",
        "sns.heatmap(conf_matrix, annot=True, fmt='d')\n",
        "plt.xlabel('Predicted')\n",
        "plt.ylabel('True')\n",
        "plt.show()\n"
      ],
      "metadata": {
        "colab": {
          "base_uri": "https://localhost:8080/",
          "height": 449
        },
        "id": "beMFFlZnH93R",
        "outputId": "7c74e107-cb1f-4a16-ef35-898428b49b8f"
      },
      "execution_count": null,
      "outputs": [
        {
          "output_type": "display_data",
          "data": {
            "text/plain": [
              "<Figure size 640x480 with 2 Axes>"
            ],
            "image/png": "[encoded data removed]"
          },
          "metadata": {}
        }
      ]
    }
  ],
  "metadata": {
    "accelerator": "GPU",
    "colab": {
      "collapsed_sections": [
        "UwrwAbARqviu"
      ],
      "gpuType": "T4",
      "provenance": []
    },
    "kernelspec": {
      "display_name": "Python 3",
      "name": "python3"
    },
    "language_info": {
      "name": "python"
    }
  },
  "nbformat": 4,
  "nbformat_minor": 0
}